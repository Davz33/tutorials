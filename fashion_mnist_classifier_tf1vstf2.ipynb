{
  "nbformat": 4,
  "nbformat_minor": 0,
  "metadata": {
    "colab": {
      "provenance": [],
      "authorship_tag": "ABX9TyOtVdjiRWVuBj2x9BK03Zow",
      "include_colab_link": true
    },
    "kernelspec": {
      "name": "python3",
      "display_name": "Python 3"
    },
    "language_info": {
      "name": "python"
    },
    "accelerator": "GPU",
    "gpuClass": "standard"
  },
  "cells": [
    {
      "cell_type": "markdown",
      "metadata": {
        "id": "view-in-github",
        "colab_type": "text"
      },
      "source": [
        "<a href=\"https://colab.research.google.com/github/Davz33/tutorials/blob/tensorflow/fashion_mnist_classifier_tf1vstf2.ipynb\" target=\"_parent\"><img src=\"https://colab.research.google.com/assets/colab-badge.svg\" alt=\"Open In Colab\"/></a>"
      ]
    },
    {
      "cell_type": "markdown",
      "source": [
        "### Content:\n",
        "This notebook buils on the work of YUFENG GUO for Google Inc. from 2017 Google Notebooks within the tensorflow Google courses.\n",
        "\n",
        "The goal is to roll back to the 2017-way of classifying Zalando's fashion MNIST data (Tensorflow v.1), and compare it side-by-side to a 2023-regular workflow with Tensorflow v.2.\n",
        "\n",
        "Backward Compatibility is aided (but not guaranteed) by employing  *tensorflow.compat.v1.*\n",
        "\n",
        "### Authors:\n",
        "*   Davide Vitiello [github.com/Davz33](https://github.com/davz33) | [davide_vitiello@outlook.com](mailto:davide_vitiello@outlook.com)\n",
        "*   Yufeng Guo [github.com/yufengg](https://github.com/yufengg)\n",
        "* The Tensorflow Authors Authors (Google Inc., 2017)\n",
        "\n",
        "### License\n",
        "The chunks of code running tensorflow v.1 are originally licensed to Google Inc. , under the apache license 2.0 (printed below), and thereof copyright belongs to 2017 Google Inc. , for all indetical lines of code.\n",
        "\n",
        "Concerning the addition by [Davide Vitiello](https://github.com/davz33) , covering the tensorflow v2.0 chunks, the Apache 2.0 license apply, with full text available at:\n",
        "> https://opensource.org/licenses/Apache-2.0\n",
        "\n",
        "#### License Text\n",
        "Licensed under the Apache License, Version 2.0 (the \"License\");\n",
        "you may not use this file except in compliance with the License.\n",
        "You may obtain a copy of the License at\n",
        "\n",
        "      http://www.apache.org/licenses/LICENSE-2.0\n",
        "\n",
        "Unless required by applicable law or agreed to in writing, software\n",
        "distributed under the License is distributed on an \"AS IS\" BASIS,\n",
        " WITHOUT WARRANTIES OR CONDITIONS OF ANY KIND, either express or implied.\n",
        " See the License for the specific language governing permissions and\n",
        "limitations under the License.\n",
        "\n",
        "##### Copyright\n",
        "The rights holder of the respective parts of the code are:\n",
        "*   Davide Vitiello [github.com/Davz33](https://github.com/davz33) | [davide_vitiello@outlook.com](mailto:davide_vitiello@outlook.com)\n",
        "*   2017 Google Inc.\n",
        "under the aforementioned licenses"
      ],
      "metadata": {
        "id": "aWTNdZHMVUwq"
      }
    },
    {
      "cell_type": "code",
      "execution_count": 1,
      "metadata": {
        "colab": {
          "base_uri": "https://localhost:8080/"
        },
        "id": "gXSZ-HANFnWB",
        "outputId": "b0071b2d-dbab-4b44-b563-3c8260765936"
      },
      "outputs": [
        {
          "output_type": "stream",
          "name": "stdout",
          "text": [
            "mkdir: cannot create directory ‘utils’: File exists\n"
          ]
        }
      ],
      "source": [
        "import tensorflow as tf\n",
        "import numpy as np\n",
        "import tensorflow.compat.v1 as tf1\n",
        "!mkdir utils && cd utils && wget https://raw.githubusercontent.com/zalandoresearch/fashion-mnist/b2617bb6d3ffa2e429640350f613e3291e10b141/utils/mnist_reader.py\n",
        "from utils import mnist_reader"
      ]
    },
    {
      "cell_type": "code",
      "source": [
        "#import\n",
        "\n",
        "#tf1\n",
        "!mkdir data && cd data && wget http://fashion-mnist.s3-website.eu-central-1.amazonaws.com/train-images-idx3-ubyte.gz && wget http://fashion-mnist.s3-website.eu-central-1.amazonaws.com/train-labels-idx1-ubyte.gz && wget http://fashion-mnist.s3-website.eu-central-1.amazonaws.com/t10k-images-idx3-ubyte.gz && wget http://fashion-mnist.s3-website.eu-central-1.amazonaws.com/t10k-labels-idx1-ubyte.gz\n",
        "\n",
        "X_train_, y_train_ = mnist_reader.load_mnist('data', kind='train')\n",
        "X_test_, y_test_ = mnist_reader.load_mnist('data', kind='t10k')\n",
        "print(\"fashion_mnist:\\n:\",\n",
        "      type(X_train_),\"\\n\",\n",
        "      type(y_train_),\"\\n\",\n",
        "      [np.shape(d) for d in [X_train_,y_train_,X_test_,y_test_]])"
      ],
      "metadata": {
        "colab": {
          "base_uri": "https://localhost:8080/"
        },
        "id": "Hvq9A9Pi8Z3z",
        "outputId": "bb5fe493-e123-42b6-cc81-04b556696f7a"
      },
      "execution_count": 2,
      "outputs": [
        {
          "output_type": "stream",
          "name": "stdout",
          "text": [
            "mkdir: cannot create directory ‘data’: File exists\n",
            "fashion_mnist:\n",
            ": <class 'numpy.ndarray'> \n",
            " <class 'numpy.ndarray'> \n",
            " [(60000, 784), (60000,), (10000, 784), (10000,)]\n"
          ]
        }
      ]
    },
    {
      "cell_type": "code",
      "source": [
        "#import\n",
        "\n",
        "#tf2\n",
        "(x_train, y_train), (x_test, y_test) = tf.keras.datasets.fashion_mnist.load_data()\n",
        "print(\"fashion_mnist:\\n:\",\n",
        "      type(x_train),\"\\n\",\n",
        "      type(y_train),\"\\n\",\n",
        "      [np.shape(d) for d in [x_train,y_train,x_test,y_test]])\n",
        "#each image is 28x28.\n",
        "#images thus need flattening"
      ],
      "metadata": {
        "colab": {
          "base_uri": "https://localhost:8080/"
        },
        "id": "NnC01M4gGeyf",
        "outputId": "88dba904-62c9-407c-ed86-8f89acb7986f"
      },
      "execution_count": 3,
      "outputs": [
        {
          "output_type": "stream",
          "name": "stdout",
          "text": [
            "fashion_mnist:\n",
            ": <class 'numpy.ndarray'> \n",
            " <class 'numpy.ndarray'> \n",
            " [(60000, 28, 28), (60000,), (10000, 28, 28), (10000,)]\n"
          ]
        }
      ]
    },
    {
      "cell_type": "markdown",
      "source": [
        "For this classifier, the pixel are the features itself.\n",
        "The classes are represented by 10 types of clothing items."
      ],
      "metadata": {
        "id": "WTfSwOwGvktW"
      }
    },
    {
      "cell_type": "code",
      "source": [
        "#define parameters for model \n",
        "N_CLASSES=10,\n",
        "BATCH_SIZE=32"
      ],
      "metadata": {
        "id": "wmBJp8ny6zai"
      },
      "execution_count": 4,
      "outputs": []
    },
    {
      "cell_type": "code",
      "source": [
        "#tf1 flow:\n",
        "with tf1.Session() as session:\n",
        "  input_ = tf1.estimator.inputs.numpy_input_fn(\n",
        "      x = {'pixels': X_train_/255},\n",
        "      y = y_train_,\n",
        "      batch_size=100,\n",
        "      num_epochs=3,\n",
        "      shuffle=True)\n",
        "  \n",
        "  classifier = tf1.estimator.LinearClassifier(\n",
        "      feature_columns = [tf1.feature_column.numeric_column(\"pixels\",shape=784)],\n",
        "      n_classes = N_CLASSES\n",
        "  )\n",
        "  classifierwDNN = tf1.estimator.DNNClassifier(\n",
        "      feature_columns = [tf1.feature_column.numeric_column(\"pixels\",shape=784)],\n",
        "      n_classes = N_CLASSES,\n",
        "      hidden_units = [200, 100, 50]\n",
        "  )"
      ],
      "metadata": {
        "colab": {
          "base_uri": "https://localhost:8080/"
        },
        "id": "BzjQIJ-fPfSm",
        "outputId": "973d3e45-2113-47df-c91c-03660dbd55a6"
      },
      "execution_count": 5,
      "outputs": [
        {
          "output_type": "stream",
          "name": "stderr",
          "text": [
            "WARNING:tensorflow:From /usr/local/lib/python3.8/dist-packages/tensorflow/python/util/lazy_loader.py:59: The name tf.estimator.inputs is deprecated. Please use tf.compat.v1.estimator.inputs instead.\n",
            "\n",
            "WARNING:tensorflow:Using temporary folder as model directory: /tmp/tmpognorkrw\n",
            "WARNING:tensorflow:Using temporary folder as model directory: /tmp/tmp38uh38w4\n"
          ]
        }
      ]
    },
    {
      "cell_type": "code",
      "source": [
        "#tf2 flow:\n",
        "train_nm = tf.cast(x_train,tf.float32)/255\n",
        "test_nm  = tf.cast(x_test,tf.float32)/255\n",
        "data_ = tf.data.Dataset.from_tensor_slices(\n",
        "    (\n",
        "        train_nm,\n",
        "        y_train\n",
        "    )\n",
        ")\n",
        "test_ = tf.data.Dataset.from_tensor_slices(\n",
        "    (\n",
        "        test_nm,\n",
        "        y_test\n",
        "    )\n",
        ")\n",
        "bdata = data_.cache().repeat().shuffle(60000).batch(BATCH_SIZE)\n",
        "beval = test_.cache().batch(BATCH_SIZE)#to match dimensions during model.eval\n",
        "#it is necessary that your batch size for train and test keep constant\n",
        "model = tf.keras.Sequential(\n",
        "    [\n",
        "        tf.keras.layers.Flatten(input_shape=(28,28,1)),\n",
        "        tf.keras.layers.Dense(100,activation=tf.nn.relu),\n",
        "        tf.keras.layers.Dense(10,activation = tf.nn.softmax)\n",
        "    ]\n",
        ")\n",
        "\n",
        "model.compile(optimizer='adam',\n",
        "              loss=tf.keras.losses.SparseCategoricalCrossentropy(),\n",
        "              metrics=['accuracy'])\n",
        "\n",
        "#\n",
        "print(\"tf1:\\ndata(via input function):\\n\",input_,\"\\nclassifier:\\n\",classifier,\"\\ntf2:\\ndata:\\n\",bdata,\"\\nmodel:\\n\",model)"
      ],
      "metadata": {
        "colab": {
          "base_uri": "https://localhost:8080/"
        },
        "id": "HulKPXaos9Lm",
        "outputId": "e12af374-5b58-49ce-a560-8d50ec37d57e"
      },
      "execution_count": 6,
      "outputs": [
        {
          "output_type": "stream",
          "name": "stdout",
          "text": [
            "tf1:\n",
            "data(via input function):\n",
            " <function numpy_input_fn.<locals>.input_fn at 0x7ff2e14511f0> \n",
            "classifier:\n",
            " <tensorflow_estimator.python.estimator.canned.linear.LinearClassifier object at 0x7ff2f483b6d0> \n",
            "tf2:\n",
            "data:\n",
            " <BatchDataset element_spec=(TensorSpec(shape=(None, 28, 28), dtype=tf.float32, name=None), TensorSpec(shape=(None,), dtype=tf.uint8, name=None))> \n",
            "model:\n",
            " <keras.engine.sequential.Sequential object at 0x7ff2e023b0d0>\n"
          ]
        }
      ]
    },
    {
      "cell_type": "code",
      "source": [
        "print(\"TF2 model workflow\")\n",
        "tf.keras.utils.plot_model(model, show_layer_names=True, show_shapes=True,)"
      ],
      "metadata": {
        "colab": {
          "base_uri": "https://localhost:8080/",
          "height": 439
        },
        "id": "Drie_hzNGCcy",
        "outputId": "22abcc9d-1ebb-4a55-fc6f-1ba3e7434ed7"
      },
      "execution_count": 7,
      "outputs": [
        {
          "output_type": "stream",
          "name": "stdout",
          "text": [
            "TF2 model workflow\n"
          ]
        },
        {
          "output_type": "execute_result",
          "data": {
            "image/png": "[encoded data removed]",
            "text/plain": [
              "<IPython.core.display.Image object>"
            ]
          },
          "metadata": {},
          "execution_count": 7
        }
      ]
    },
    {
      "cell_type": "code",
      "source": [
        "#train the model\n",
        "\n",
        "#tf1:\n",
        "\n",
        "#classifier.train(input_fn=input_)\n",
        "\n",
        "#accuracy = classifier.evaluate(input_fn=input_(x_test,y_test),steps=100)['accuracy']\n",
        "#print('\\nAccuracy: {0:f}'.format(accuracy))"
      ],
      "metadata": {
        "id": "UwDWl8G2IZTQ"
      },
      "execution_count": 8,
      "outputs": []
    },
    {
      "cell_type": "code",
      "source": [
        "#train the model\n",
        "\n",
        "#tf2:\n",
        "model.fit(\n",
        "    bdata,\n",
        "    epochs=10,\n",
        "    steps_per_epoch=60000/BATCH_SIZE\n",
        ")"
      ],
      "metadata": {
        "colab": {
          "base_uri": "https://localhost:8080/"
        },
        "id": "Qc49sBJ4y2hl",
        "outputId": "462094a6-1048-45a1-b47f-13add14ca437"
      },
      "execution_count": 9,
      "outputs": [
        {
          "output_type": "stream",
          "name": "stdout",
          "text": [
            "Epoch 1/10\n",
            "1875/1875 [==============================] - 18s 7ms/step - loss: 0.4938 - accuracy: 0.8262\n",
            "Epoch 2/10\n",
            "1875/1875 [==============================] - 10s 5ms/step - loss: 0.3753 - accuracy: 0.8651\n",
            "Epoch 3/10\n",
            "1875/1875 [==============================] - 11s 6ms/step - loss: 0.3385 - accuracy: 0.8760\n",
            "Epoch 4/10\n",
            "1875/1875 [==============================] - 10s 5ms/step - loss: 0.3138 - accuracy: 0.8857\n",
            "Epoch 5/10\n",
            "1875/1875 [==============================] - 9s 5ms/step - loss: 0.3001 - accuracy: 0.8897\n",
            "Epoch 6/10\n",
            "1875/1875 [==============================] - 11s 6ms/step - loss: 0.2848 - accuracy: 0.8957\n",
            "Epoch 7/10\n",
            "1875/1875 [==============================] - 11s 6ms/step - loss: 0.2692 - accuracy: 0.9017\n",
            "Epoch 8/10\n",
            "1875/1875 [==============================] - 9s 5ms/step - loss: 0.2587 - accuracy: 0.9037\n",
            "Epoch 9/10\n",
            "1875/1875 [==============================] - 9s 5ms/step - loss: 0.2505 - accuracy: 0.9062\n",
            "Epoch 10/10\n",
            "1875/1875 [==============================] - 10s 5ms/step - loss: 0.2454 - accuracy: 0.9082\n"
          ]
        },
        {
          "output_type": "execute_result",
          "data": {
            "text/plain": [
              "<keras.callbacks.History at 0x7ff3a45f7d90>"
            ]
          },
          "metadata": {},
          "execution_count": 9
        }
      ]
    },
    {
      "cell_type": "code",
      "source": [
        "import math\n",
        "test_loss, test_accuracy = model.evaluate(beval, steps=math.ceil(10000/32))\n",
        "print('Accuracy on test dataset:', test_accuracy)"
      ],
      "metadata": {
        "colab": {
          "base_uri": "https://localhost:8080/"
        },
        "id": "6cUEh3h1FlHK",
        "outputId": "ade4c0f4-9a19-4c5c-b2ea-e7afa3d15e18"
      },
      "execution_count": 10,
      "outputs": [
        {
          "output_type": "stream",
          "name": "stdout",
          "text": [
            "313/313 [==============================] - 1s 3ms/step - loss: 0.3332 - accuracy: 0.8829\n",
            "Accuracy on test dataset: 0.8828999996185303\n"
          ]
        }
      ]
    },
    {
      "cell_type": "markdown",
      "source": [
        "Here's a variable overview to help comprehension:\n",
        "\n",
        "| Name           | Type               | Shape           | Value                                                                                                                                                                                                                                                                                                                                                                                                                                                                                                                                                                                                                                                                                                                                                                                                                                                                                                                                                                                                                                                                                                                                                                                                                                                                                       |\n",
        "|----------------|--------------------|-----------------|---------------------------------------------------------------------------------------------------------------------------------------------------------------------------------------------------------------------------------------------------------------------------------------------------------------------------------------------------------------------------------------------------------------------------------------------------------------------------------------------------------------------------------------------------------------------------------------------------------------------------------------------------------------------------------------------------------------------------------------------------------------------------------------------------------------------------------------------------------------------------------------------------------------------------------------------------------------------------------------------------------------------------------------------------------------------------------------------------------------------------------------------------------------------------------------------------------------------------------------------------------------------------------------------|\n",
        "| BATCH_SIZE     | int                |                 | 32                                                                                                                                                                                                                                                                                                                                                                                                                                                                                                                                                                                                                                                                                                                                                                                                                                                                                                                                                                                                                                                                                                                                                                                                                                                                                          |\n",
        "| N_CLASSES      | tuple              | 1 item          | (10,)                                                                                                                                                                                                                                                                                                                                                                                                                                                                                                                                                                                                                                                                                                                                                                                                                                                                                                                                                                                                                                                                                                                                                                                                                                                                                       |\n",
        "| X_test_        | ndarray            | (10000, 784)    | array([[0, 0, 0, ..., 0, 0, 0], [0, 0, 0, ..., 0, 0, 0], [0, 0, 0, ..., 0, 0, 0], ..., [0, 0, 0, ..., 0, 0, 0], [0, 0, 0, ..., 0, 0, 0], [0, 0, 0, ..., 0, 0, 0]], dtype=uint8)                                                                                                                                                                                                                                                                                                                                                                                                                                                                                                                                                                                                                                                                                                                                                                                                                                                                                                                                                                                                                                                                                                             |\n",
        "| X_train_       | ndarray            | (60000, 784)    | array([[0, 0, 0, ..., 0, 0, 0], [0, 0, 0, ..., 0, 0, 0], [0, 0, 0, ..., 0, 0, 0], ..., [0, 0, 0, ..., 0, 0, 0], [0, 0, 0, ..., 0, 0, 0], [0, 0, 0, ..., 0, 0, 0]], dtype=uint8)                                                                                                                                                                                                                                                                                                                                                                                                                                                                                                                                                                                                                                                                                                                                                                                                                                                                                                                                                                                                                                                                                                             |\n",
        "| bdata          | BatchDataset       |                 | <BatchDataset element_spec=(TensorSpec(shape=(None, 28, 28), dtype=tf.float32, name=None), TensorSpec(shape=(None,), dtype=tf.uint8, name=None))>                                                                                                                                                                                                                                                                                                                                                                                                                                                                                                                                                                                                                                                                                                                                                                                                                                                                                                                                                                                                                                                                                                                                           |\n",
        "| beval          | BatchDataset       |                 | <BatchDataset element_spec=(TensorSpec(shape=(None, 28, 28), dtype=tf.float32, name=None), TensorSpec(shape=(None,), dtype=tf.uint8, name=None))>                                                                                                                                                                                                                                                                                                                                                                                                                                                                                                                                                                                                                                                                                                                                                                                                                                                                                                                                                                                                                                                                                                                                           |\n",
        "| classifier     | LinearClassifier   |                 | <tensorflow_estimator.python.estimator.canned.linear.LinearClassifier object at 0x7ff2f483b6d0>                                                                                                                                                                                                                                                                                                                                                                                                                                                                                                                                                                                                                                                                                                                                                                                                                                                                                                                                                                                                                                                                                                                                                                                             |\n",
        "| classifierwDNN | DNNClassifier      |                 | <tensorflow_estimator.python.estimator.canned.dnn.DNNClassifier object at 0x7ff2e14dbee0>                                                                                                                                                                                                                                                                                                                                                                                                                                                                                                                                                                                                                                                                                                                                                                                                                                                                                                                                                                                                                                                                                                                                                                                                   |\n",
        "| data_          | TensorSliceDataset |                 | <TensorSliceDataset element_spec=(TensorSpec(shape=(28, 28), dtype=tf.float32, name=None), TensorSpec(shape=(), dtype=tf.uint8, name=None))>                                                                                                                                                                                                                                                                                                                                                                                                                                                                                                                                                                                                                                                                                                                                                                                                                                                                                                                                                                                                                                                                                                                                                |\n",
        "| model          | Sequential         |                 | <keras.engine.sequential.Sequential object at 0x7ff2e023b0d0>                                                                                                                                                                                                                                                                                                                                                                                                                                                                                                                                                                                                                                                                                                                                                                                                                                                                                                                                                                                                                                                                                                                                                                                                                               |\n",
        "| session        | Session            |                 | <tensorflow.python.client.session.Session object at 0x7ff2f483b2b0>                                                                                                                                                                                                                                                                                                                                                                                                                                                                                                                                                                                                                                                                                                                                                                                                                                                                                                                                                                                                                                                                                                                                                                                                                         |\n",
        "| test_          | TensorSliceDataset |                 | <TensorSliceDataset element_spec=(TensorSpec(shape=(28, 28), dtype=tf.float32, name=None), TensorSpec(shape=(), dtype=tf.uint8, name=None))>                                                                                                                                                                                                                                                                                                                                                                                                                                                                                                                                                                                                                                                                                                                                                                                                                                                                                                                                                                                                                                                                                                                                                |\n",
        "| test_accuracy  | float              |                 | 0.8829                                                                                                                                                                                                                                                                                                                                                                                                                                                                                                                                                                                                                                                                                                                                                                                                                                                                                                                                                                                                                                                                                                                                                                                                                                                                                      |\n",
        "| test_loss      | float              |                 | 0.333191931                                                                                                                                                                                                                                                                                                                                                                                                                                                                                                                                                                                                                                                                                                                                                                                                                                                                                                                                                                                                                                                                                                                                                                                                                                                                                 |\n",
        "| test_nm        | EagerTensor        | (10000, 28, 28) | <tf.Tensor: shape=(10000, 28, 28), dtype=float32, numpy= array([[[0., 0., 0., ..., 0., 0., 0.], [0., 0., 0., ..., 0., 0., 0.], [0., 0., 0., ..., 0., 0., 0.], ..., [0., 0., 0., ..., 0., 0., 0.], [0., 0., 0., ..., 0., 0., 0.], [0., 0., 0., ..., 0., 0., 0.]], [[0., 0., 0., ..., 0., 0., 0.], [0., 0., 0., ..., 0., 0., 0.], [0., 0., 0., ..., 0., 0., 0.], ..., [0., 0., 0., ..., 0., 0., 0.], [0., 0., 0., ..., 0., 0., 0.], [0., 0., 0., ..., 0., 0., 0.]], [[0., 0., 0., ..., 0., 0., 0.], [0., 0., 0., ..., 0., 0., 0.], [0., 0., 0., ..., 0., 0., 0.], ..., [0., 0., 0., ..., 0., 0., 0.], [0., 0., 0., ..., 0., 0., 0.], [0., 0., 0., ..., 0., 0., 0.]], ..., [[0., 0., 0., ..., 0., 0., 0.], [0., 0., 0., ..., 0., 0., 0.], [0., 0., 0., ..., 0., 0., 0.], ..., [0., 0., 0., ..., 0., 0., 0.], [0., 0., 0., ..., 0., 0., 0.], [0., 0., 0., ..., 0., 0., 0.]], [[0., 0., 0., ..., 0., 0., 0.], [0., 0., 0., ..., 0., 0., 0.], [0., 0., 0., ..., 0., 0., 0.], ..., [0., 0., 0., ..., 0., 0., 0.], [0., 0., 0., ..., 0., 0., 0.], [0., 0., 0., ..., 0., 0., 0.]], [[0., 0., 0., ..., 0., 0., 0.], [0., 0., 0., ..., 0., 0., 0.], [0., 0., 0., ..., 0., 0., 0.], ..., [0., 0., 0., ..., 0., 0., 0.], [0., 0., 0., ..., 0., 0., 0.], [0., 0., 0., ..., 0., 0., 0.]]], dtype=float32)> |\n",
        "| train_nm       | EagerTensor        | (60000, 28, 28) | <tf.Tensor: shape=(60000, 28, 28), dtype=float32, numpy= array([[[0., 0., 0., ..., 0., 0., 0.], [0., 0., 0., ..., 0., 0., 0.], [0., 0., 0., ..., 0., 0., 0.], ..., [0., 0., 0., ..., 0., 0., 0.], [0., 0., 0., ..., 0., 0., 0.], [0., 0., 0., ..., 0., 0., 0.]], [[0., 0., 0., ..., 0., 0., 0.], [0., 0., 0., ..., 0., 0., 0.], [0., 0., 0., ..., 0., 0., 0.], ..., [0., 0., 0., ..., 0., 0., 0.], [0., 0., 0., ..., 0., 0., 0.], [0., 0., 0., ..., 0., 0., 0.]], [[0., 0., 0., ..., 0., 0., 0.], [0., 0., 0., ..., 0., 0., 0.], [0., 0., 0., ..., 0., 0., 0.], ..., [0., 0., 0., ..., 0., 0., 0.], [0., 0., 0., ..., 0., 0., 0.], [0., 0., 0., ..., 0., 0., 0.]], ..., [[0., 0., 0., ..., 0., 0., 0.], [0., 0., 0., ..., 0., 0., 0.], [0., 0., 0., ..., 0., 0., 0.], ..., [0., 0., 0., ..., 0., 0., 0.], [0., 0., 0., ..., 0., 0., 0.], [0., 0., 0., ..., 0., 0., 0.]], [[0., 0., 0., ..., 0., 0., 0.], [0., 0., 0., ..., 0., 0., 0.], [0., 0., 0., ..., 0., 0., 0.], ..., [0., 0., 0., ..., 0., 0., 0.], [0., 0., 0., ..., 0., 0., 0.], [0., 0., 0., ..., 0., 0., 0.]], [[0., 0., 0., ..., 0., 0., 0.], [0., 0., 0., ..., 0., 0., 0.], [0., 0., 0., ..., 0., 0., 0.], ..., [0., 0., 0., ..., 0., 0., 0.], [0., 0., 0., ..., 0., 0., 0.], [0., 0., 0., ..., 0., 0., 0.]]], dtype=float32)> |\n",
        "| x_test         | ndarray            | (10000, 28, 28) | array([[[0, 0, 0, ..., 0, 0, 0], [0, 0, 0, ..., 0, 0, 0], [0, 0, 0, ..., 0, 0, 0], ..., [0, 0, 0, ..., 0, 0, 0], [0, 0, 0, ..., 0, 0, 0], [0, 0, 0, ..., 0, 0, 0]], [[0, 0, 0, ..., 0, 0, 0], [0, 0, 0, ..., 0, 0, 0], [0, 0, 0, ..., 0, 0, 0], ..., [0, 0, 0, ..., 0, 0, 0], [0, 0, 0, ..., 0, 0, 0], [0, 0, 0, ..., 0, 0, 0]], [[0, 0, 0, ..., 0, 0, 0], [0, 0, 0, ..., 0, 0, 0], [0, 0, 0, ..., 0, 0, 0], ..., [0, 0, 0, ..., 0, 0, 0], [0, 0, 0, ..., 0, 0, 0], [0, 0, 0, ..., 0, 0, 0]], ..., [[0, 0, 0, ..., 0, 0, 0], [0, 0, 0, ..., 0, 0, 0], [0, 0, 0, ..., 0, 0, 0], ..., [0, 0, 0, ..., 0, 0, 0], [0, 0, 0, ..., 0, 0, 0], [0, 0, 0, ..., 0, 0, 0]], [[0, 0, 0, ..., 0, 0, 0], [0, 0, 0, ..., 0, 0, 0], [0, 0, 0, ..., 0, 0, 0], ..., [0, 0, 0, ..., 0, 0, 0], [0, 0, 0, ..., 0, 0, 0], [0, 0, 0, ..., 0, 0, 0]], [[0, 0, 0, ..., 0, 0, 0], [0, 0, 0, ..., 0, 0, 0], [0, 0, 0, ..., 0, 0, 0], ..., [0, 0, 0, ..., 0, 0, 0], [0, 0, 0, ..., 0, 0, 0], [0, 0, 0, ..., 0, 0, 0]]], dtype=uint8)                                                                                                                                                                                                                                                                                     |\n",
        "| x_train        | ndarray            | (60000, 28, 28) | array([[[0, 0, 0, ..., 0, 0, 0], [0, 0, 0, ..., 0, 0, 0], [0, 0, 0, ..., 0, 0, 0], ..., [0, 0, 0, ..., 0, 0, 0], [0, 0, 0, ..., 0, 0, 0], [0, 0, 0, ..., 0, 0, 0]], [[0, 0, 0, ..., 0, 0, 0], [0, 0, 0, ..., 0, 0, 0], [0, 0, 0, ..., 0, 0, 0], ..., [0, 0, 0, ..., 0, 0, 0], [0, 0, 0, ..., 0, 0, 0], [0, 0, 0, ..., 0, 0, 0]], [[0, 0, 0, ..., 0, 0, 0], [0, 0, 0, ..., 0, 0, 0], [0, 0, 0, ..., 0, 0, 0], ..., [0, 0, 0, ..., 0, 0, 0], [0, 0, 0, ..., 0, 0, 0], [0, 0, 0, ..., 0, 0, 0]], ..., [[0, 0, 0, ..., 0, 0, 0], [0, 0, 0, ..., 0, 0, 0], [0, 0, 0, ..., 0, 0, 0], ..., [0, 0, 0, ..., 0, 0, 0], [0, 0, 0, ..., 0, 0, 0], [0, 0, 0, ..., 0, 0, 0]], [[0, 0, 0, ..., 0, 0, 0], [0, 0, 0, ..., 0, 0, 0], [0, 0, 0, ..., 0, 0, 0], ..., [0, 0, 0, ..., 0, 0, 0], [0, 0, 0, ..., 0, 0, 0], [0, 0, 0, ..., 0, 0, 0]], [[0, 0, 0, ..., 0, 0, 0], [0, 0, 0, ..., 0, 0, 0], [0, 0, 0, ..., 0, 0, 0], ..., [0, 0, 0, ..., 0, 0, 0], [0, 0, 0, ..., 0, 0, 0], [0, 0, 0, ..., 0, 0, 0]]], dtype=uint8)                                                                                                                                                                                                                                                                                     |\n",
        "| y_test         | ndarray            | (10000,)        | array([9, 2, 1, ..., 8, 1, 5], dtype=uint8)                                                                                                                                                                                                                                                                                                                                                                                                                                                                                                                                                                                                                                                                                                                                                                                                                                                                                                                                                                                                                                                                                                                                                                                                                                                 |\n",
        "| y_test_        | ndarray            | (10000,)        | array([9, 2, 1, ..., 8, 1, 5], dtype=uint8)                                                                                                                                                                                                                                                                                                                                                                                                                                                                                                                                                                                                                                                                                                                                                                                                                                                                                                                                                                                                                                                                                                                                                                                                                                                 |\n",
        "| y_train        | ndarray            | (60000,)        | array([9, 0, 0, ..., 3, 0, 5], dtype=uint8)                                                                                                                                                                                                                                                                                                                                                                                                                                                                                                                                                                                                                                                                                                                                                                                                                                                                                                                                                                                                                                                                                                                                                                                                                                                 |\n",
        "| y_train_       | ndarray            | (60000,)        | array([9, 0, 0, ..., 3, 0, 5], dtype=uint8)                                                                                                                                                                                                                                                                                                                                                                                                                                                                                                                                                                                                                                                                                                                                                                                                                                                                                                                                                                                                                                                                                                                                                                                                                                                 |"
      ],
      "metadata": {
        "id": "m9_zjA-KfE9l"
      }
    }
  ]
}