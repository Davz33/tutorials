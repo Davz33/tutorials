{
  "cells": [
    {
      "cell_type": "markdown",
      "metadata": {
        "id": "view-in-github",
        "colab_type": "text"
      },
      "source": [
        "<a href=\"https://colab.research.google.com/github/Davz33/tutorials/blob/data/set_up_ngrok_jupyter_lab.ipynb\" target=\"_parent\"><img src=\"https://colab.research.google.com/assets/colab-badge.svg\" alt=\"Open In Colab\"/></a>"
      ]
    },
    {
      "cell_type": "markdown",
      "id": "cf28176d-7dce-4ab3-8e96-148a3abd651d",
      "metadata": {
        "tags": [],
        "id": "cf28176d-7dce-4ab3-8e96-148a3abd651d"
      },
      "source": [
        "# Set up your jupyter-lab remote access point via ngrok"
      ]
    },
    {
      "cell_type": "markdown",
      "id": "fb7cb8b9-8057-4fd6-809e-2138da2d85fe",
      "metadata": {
        "id": "fb7cb8b9-8057-4fd6-809e-2138da2d85fe"
      },
      "source": [
        "> Note: I haven't tested this on G. Collab notebooks, but on my jupyter-lab local instance"
      ]
    },
    {
      "cell_type": "markdown",
      "id": "ddf25b8a-760d-4394-b506-38658a953ed6",
      "metadata": {
        "id": "ddf25b8a-760d-4394-b506-38658a953ed6"
      },
      "source": [
        "Copyright 2023 Davide Vitiello\n",
        "> davide_vitiello@outlook.com \n",
        "\n",
        "> github.com/davz33\n",
        "\n",
        "Licensed under the Apache License, Version 2.0 (the \"License\");\n",
        "you may not use this file except in compliance with the License.\n",
        "You may obtain a copy of the License at\n",
        "\n",
        "    http://www.apache.org/licenses/LICENSE-2.0\n",
        "\n",
        "Unless required by applicable law or agreed to in writing, software\n",
        "distributed under the License is distributed on an \"AS IS\" BASIS,\n",
        "WITHOUT WARRANTIES OR CONDITIONS OF ANY KIND, either express or implied.\n",
        "See the License for the specific language governing permissions and\n",
        "limitations under the License."
      ]
    },
    {
      "cell_type": "markdown",
      "id": "e7b44a85-262b-41c8-9343-77b035dd9558",
      "metadata": {
        "tags": [],
        "id": "e7b44a85-262b-41c8-9343-77b035dd9558"
      },
      "source": [
        "## Configuration & Access"
      ]
    },
    {
      "cell_type": "code",
      "execution_count": null,
      "id": "d2d1ec57-58a6-4719-8ae2-eb9a18fec541",
      "metadata": {
        "id": "d2d1ec57-58a6-4719-8ae2-eb9a18fec541",
        "outputId": "2859725a-4a8c-4775-d7e3-eefa677f572f"
      },
      "outputs": [
        {
          "name": "stdout",
          "output_type": "stream",
          "text": [
            "Writing default config to: /root/.jupyter/jupyter_lab_config.py\n"
          ]
        }
      ],
      "source": [
        "!jupyter-lab --generate-config"
      ]
    },
    {
      "cell_type": "code",
      "execution_count": null,
      "id": "f10e6497-b95b-44e0-8b8b-f26071151236",
      "metadata": {
        "id": "f10e6497-b95b-44e0-8b8b-f26071151236",
        "outputId": "8083292d-fe30-428b-bec7-18cdc4af9d26"
      },
      "outputs": [
        {
          "name": "stdout",
          "output_type": "stream",
          "text": [
            "679:# c.ServerApp.allow_remote_access = False\n",
            "885:## Hostnames to allow as local when allow_remote_access is False.\n"
          ]
        }
      ],
      "source": [
        "!cat /root/.jupyter/jupyter_lab_config.py | grep -n 'allow_remote_access'"
      ]
    },
    {
      "cell_type": "code",
      "execution_count": null,
      "id": "1b317dfd-3d90-4a61-b681-a7f82c53905b",
      "metadata": {
        "id": "1b317dfd-3d90-4a61-b681-a7f82c53905b",
        "outputId": "7bc7dfcd-b35c-42da-98a1-9e90d69c7f1f"
      },
      "outputs": [
        {
          "name": "stdout",
          "output_type": "stream",
          "text": [
            "679:c.ServerApp.allow_remote_access = True\n",
            "885:## Hostnames to allow as local when allow_remote_access is False.\n"
          ]
        }
      ],
      "source": [
        "!sed -i \"679 c\\\\c\\.ServerApp\\.allow_remote_access = True\" \"/root/.jupyter/jupyter_lab_config.py\"\n",
        "!cat /root/.jupyter/jupyter_lab_config.py | grep -n 'allow_remote_access'"
      ]
    },
    {
      "cell_type": "code",
      "execution_count": null,
      "id": "55401d90-1ee3-4edf-9adf-aacc97b2984b",
      "metadata": {
        "id": "55401d90-1ee3-4edf-9adf-aacc97b2984b",
        "outputId": "37860883-5bec-4cef-b154-64d3404aa5f7"
      },
      "outputs": [
        {
          "data": {
            "text/markdown": [
              "in a terminal: `jupyter lab password pwd`\n"
            ],
            "text/plain": [
              "<IPython.core.display.Markdown object>"
            ]
          },
          "metadata": {},
          "output_type": "display_data"
        }
      ],
      "source": [
        "%%markdown\n",
        "in a terminal: `jupyter lab password pwd`"
      ]
    },
    {
      "cell_type": "code",
      "execution_count": null,
      "id": "6ef8ca70-f851-4b0f-80c1-0a6d50943b24",
      "metadata": {
        "tags": [],
        "id": "6ef8ca70-f851-4b0f-80c1-0a6d50943b24",
        "outputId": "adf5613d-c52d-4127-c502-7bc6eb43d21a"
      },
      "outputs": [
        {
          "data": {
            "text/markdown": [
              "Run `!cat /root/.jupyter/jupyter_server_config.json` and you should see your hashed password, as in:  \n",
              "```\n",
              "{\n",
              "  \"ServerApp\": {\n",
              "    \"password\": <your-encrypted-password>\n",
              "  }\n",
              "}\n",
              "```\n"
            ],
            "text/plain": [
              "<IPython.core.display.Markdown object>"
            ]
          },
          "metadata": {},
          "output_type": "display_data"
        }
      ],
      "source": [
        "%%markdown\n",
        "Run `!cat /root/.jupyter/jupyter_server_config.json` and you should see your hashed password, as in:  \n",
        "```\n",
        "{\n",
        "  \"ServerApp\": {\n",
        "    \"password\": <your-encrypted-password>\n",
        "  }\n",
        "}\n",
        "```\n"
      ]
    },
    {
      "cell_type": "markdown",
      "id": "f52ad0c6-0052-4648-ace6-81d6e5356942",
      "metadata": {
        "tags": [],
        "id": "f52ad0c6-0052-4648-ace6-81d6e5356942"
      },
      "source": [
        "## Start your server \n",
        "foreground run:  \n",
        "`jupyter lab --allow-root --collaborative`  \n",
        "\n",
        "background run:  \n",
        "`nohup jupyter lab --allow-root --collaborative &;`  \n",
        "> using `--collaborative` you'll be able to share the session and working documents"
      ]
    }
  ],
  "metadata": {
    "kernelspec": {
      "display_name": "Python 3 (ipykernel)",
      "language": "python",
      "name": "python3"
    },
    "language_info": {
      "codemirror_mode": {
        "name": "ipython",
        "version": 3
      },
      "file_extension": ".py",
      "mimetype": "text/x-python",
      "name": "python",
      "nbconvert_exporter": "python",
      "pygments_lexer": "ipython3",
      "version": "3.10.9"
    },
    "colab": {
      "provenance": [],
      "include_colab_link": true
    }
  },
  "nbformat": 4,
  "nbformat_minor": 5
}